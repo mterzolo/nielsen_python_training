{
 "cells": [
  {
   "cell_type": "markdown",
   "metadata": {},
   "source": [
    "# Week 5 Control Flows\n",
    "\n",
    "This week will take a look at control flows - The way we can make our code take twists and turns in the road. We will cover comparison operators, and/or operators, if then statements, and loops. These techniques will help us extend our programming capibilities by introducing complex logic to our scripts."
   ]
  },
  {
   "cell_type": "code",
   "execution_count": 1,
   "metadata": {
    "collapsed": true
   },
   "outputs": [],
   "source": [
    "import numpy as np"
   ]
  },
  {
   "cell_type": "markdown",
   "metadata": {},
   "source": [
    "## Comparison Operators - Equal to & not equal to\n",
    "\n",
    "These statements can help us know whether or not one object is equal (or not equal) to another object. They are the simplest form of control flow and will be statement that allows our program to make decisions."
   ]
  },
  {
   "cell_type": "code",
   "execution_count": 4,
   "metadata": {},
   "outputs": [
    {
     "data": {
      "text/plain": [
       "False"
      ]
     },
     "execution_count": 4,
     "metadata": {},
     "output_type": "execute_result"
    }
   ],
   "source": [
    "#define two simple variables\n",
    "\n",
    "b = 4\n",
    "\n",
    "c = 5\n",
    "\n",
    "# is c equal to b?\n",
    "\n",
    "c == b"
   ]
  },
  {
   "cell_type": "code",
   "execution_count": 5,
   "metadata": {},
   "outputs": [
    {
     "data": {
      "text/plain": [
       "True"
      ]
     },
     "execution_count": 5,
     "metadata": {},
     "output_type": "execute_result"
    }
   ],
   "source": [
    "# define a new variable that has the same value as b\n",
    "\n",
    "a = 4\n",
    "\n",
    "# is a equal to b?\n",
    "\n",
    "a == b"
   ]
  },
  {
   "cell_type": "code",
   "execution_count": 6,
   "metadata": {},
   "outputs": [
    {
     "data": {
      "text/plain": [
       "True"
      ]
     },
     "execution_count": 6,
     "metadata": {},
     "output_type": "execute_result"
    }
   ],
   "source": [
    "# can work with the output of a function or calculation\n",
    "\n",
    "type(c) == type(b)"
   ]
  },
  {
   "cell_type": "code",
   "execution_count": 7,
   "metadata": {},
   "outputs": [
    {
     "data": {
      "text/plain": [
       "False"
      ]
     },
     "execution_count": 7,
     "metadata": {},
     "output_type": "execute_result"
    }
   ],
   "source": [
    "# inequalities work very similarly\n",
    "\n",
    "type(c) != type(b)"
   ]
  },
  {
   "cell_type": "markdown",
   "metadata": {},
   "source": [
    "## Comparison Operators - Greater than or Less than\n",
    "\n",
    "These follow the same pattern as equality statements, but they introduce more options for us."
   ]
  },
  {
   "cell_type": "code",
   "execution_count": 8,
   "metadata": {},
   "outputs": [
    {
     "data": {
      "text/plain": [
       "True"
      ]
     },
     "execution_count": 8,
     "metadata": {},
     "output_type": "execute_result"
    }
   ],
   "source": [
    "# greater than\n",
    "\n",
    "4 > 3"
   ]
  },
  {
   "cell_type": "code",
   "execution_count": 9,
   "metadata": {},
   "outputs": [
    {
     "data": {
      "text/plain": [
       "False"
      ]
     },
     "execution_count": 9,
     "metadata": {},
     "output_type": "execute_result"
    }
   ],
   "source": [
    "# less than\n",
    "\n",
    "46 < 33"
   ]
  },
  {
   "cell_type": "code",
   "execution_count": 10,
   "metadata": {},
   "outputs": [
    {
     "data": {
      "text/plain": [
       "True"
      ]
     },
     "execution_count": 10,
     "metadata": {},
     "output_type": "execute_result"
    }
   ],
   "source": [
    "# greater than or equal to\n",
    "\n",
    "38 >= 38"
   ]
  },
  {
   "cell_type": "code",
   "execution_count": 11,
   "metadata": {},
   "outputs": [
    {
     "data": {
      "text/plain": [
       "False"
      ]
     },
     "execution_count": 11,
     "metadata": {},
     "output_type": "execute_result"
    }
   ],
   "source": [
    "# less than or equal to\n",
    "\n",
    "98 <= 12"
   ]
  },
  {
   "cell_type": "markdown",
   "metadata": {},
   "source": [
    "## Comparison operators to subset data\n",
    "\n",
    "As we have seen before, we can use these operators to make decisions (like selecting certain elements in an array)"
   ]
  },
  {
   "cell_type": "code",
   "execution_count": 12,
   "metadata": {},
   "outputs": [
    {
     "data": {
      "text/plain": [
       "array([3, 3])"
      ]
     },
     "execution_count": 12,
     "metadata": {},
     "output_type": "execute_result"
    }
   ],
   "source": [
    "#define an array of integers\n",
    "\n",
    "my_array = np.array([3, 5, 2, 87, 45, 23, 3])\n",
    "\n",
    "#select all elements in array that are equal to 3\n",
    "\n",
    "my_array[my_array == 3]"
   ]
  },
  {
   "cell_type": "code",
   "execution_count": 13,
   "metadata": {},
   "outputs": [
    {
     "data": {
      "text/plain": [
       "array([ 5,  2, 87, 45, 23])"
      ]
     },
     "execution_count": 13,
     "metadata": {},
     "output_type": "execute_result"
    }
   ],
   "source": [
    "# select all elements in array that are not equal to 3\n",
    "\n",
    "my_array[my_array != 3]"
   ]
  },
  {
   "cell_type": "code",
   "execution_count": 14,
   "metadata": {},
   "outputs": [
    {
     "data": {
      "text/plain": [
       "array([87, 45, 23])"
      ]
     },
     "execution_count": 14,
     "metadata": {},
     "output_type": "execute_result"
    }
   ],
   "source": [
    "# select all elements in array that are greater than or equal to 13\n",
    "\n",
    "my_array[my_array >= 13]"
   ]
  },
  {
   "cell_type": "markdown",
   "metadata": {},
   "source": [
    "## And & Or\n",
    "\n",
    "The and operator will help us check to see if two conditions both meet our criteria. The or operator will help us check to see if at least one of two (or many) conditions are true."
   ]
  },
  {
   "cell_type": "code",
   "execution_count": 15,
   "metadata": {},
   "outputs": [
    {
     "data": {
      "text/plain": [
       "False"
      ]
     },
     "execution_count": 15,
     "metadata": {},
     "output_type": "execute_result"
    }
   ],
   "source": [
    "# check if two conditions are both true\n",
    "\n",
    "b = 4\n",
    "\n",
    "c = 2\n",
    "\n",
    "b > 2 and c > 2"
   ]
  },
  {
   "cell_type": "code",
   "execution_count": 16,
   "metadata": {},
   "outputs": [
    {
     "data": {
      "text/plain": [
       "False"
      ]
     },
     "execution_count": 16,
     "metadata": {},
     "output_type": "execute_result"
    }
   ],
   "source": [
    "# ampersand can be used in place of and\n",
    "\n",
    "b > 2 & c > 2"
   ]
  },
  {
   "cell_type": "code",
   "execution_count": 17,
   "metadata": {},
   "outputs": [
    {
     "data": {
      "text/plain": [
       "True"
      ]
     },
     "execution_count": 17,
     "metadata": {},
     "output_type": "execute_result"
    }
   ],
   "source": [
    "# check if one of the two conditions is true\n",
    "\n",
    "b > 2 or c > 2"
   ]
  },
  {
   "cell_type": "code",
   "execution_count": 18,
   "metadata": {},
   "outputs": [
    {
     "data": {
      "text/plain": [
       "False"
      ]
     },
     "execution_count": 18,
     "metadata": {},
     "output_type": "execute_result"
    }
   ],
   "source": [
    "# pipe can be used in place of or\n",
    "\n",
    "b > 2 | c > 2"
   ]
  },
  {
   "cell_type": "markdown",
   "metadata": {},
   "source": [
    "## If then statements\n",
    "\n",
    "If then statements are a feature of programming that will take our equality statements and comparison operators and make complex decisions based on the criteria we lay out."
   ]
  },
  {
   "cell_type": "code",
   "execution_count": 19,
   "metadata": {
    "collapsed": true
   },
   "outputs": [],
   "source": [
    "# simple if then statement\n",
    "\n",
    "price = 4.99\n",
    "\n",
    "#conditional statement\n",
    "\n",
    "if price >= 3.00:\n",
    "\n",
    "    #action to take if condition  is true (always indented by a tab)\n",
    "    \n",
    "    price_range = 'expensive'"
   ]
  },
  {
   "cell_type": "code",
   "execution_count": 20,
   "metadata": {},
   "outputs": [
    {
     "data": {
      "text/plain": [
       "'expensive'"
      ]
     },
     "execution_count": 20,
     "metadata": {},
     "output_type": "execute_result"
    }
   ],
   "source": [
    "price_range"
   ]
  },
  {
   "cell_type": "code",
   "execution_count": 21,
   "metadata": {
    "collapsed": true
   },
   "outputs": [],
   "source": [
    "#what happens if our condition is not met?\n",
    "\n",
    "price = 1.99\n",
    "\n",
    "if price >= 3.00:\n",
    "    \n",
    "    price_range_new = 'expensive'"
   ]
  },
  {
   "cell_type": "code",
   "execution_count": 22,
   "metadata": {},
   "outputs": [
    {
     "ename": "NameError",
     "evalue": "name 'price_range_new' is not defined",
     "output_type": "error",
     "traceback": [
      "\u001b[1;31m---------------------------------------------------------------------------\u001b[0m",
      "\u001b[1;31mNameError\u001b[0m                                 Traceback (most recent call last)",
      "\u001b[1;32m<ipython-input-22-7d7ca2751dca>\u001b[0m in \u001b[0;36m<module>\u001b[1;34m()\u001b[0m\n\u001b[1;32m----> 1\u001b[1;33m \u001b[0mprice_range_new\u001b[0m\u001b[1;33m\u001b[0m\u001b[0m\n\u001b[0m",
      "\u001b[1;31mNameError\u001b[0m: name 'price_range_new' is not defined"
     ]
    }
   ],
   "source": [
    "price_range_new"
   ]
  },
  {
   "cell_type": "code",
   "execution_count": 25,
   "metadata": {
    "collapsed": true
   },
   "outputs": [],
   "source": [
    "# if else statement allows us to handle all other situations\n",
    "\n",
    "price = 2.99\n",
    "\n",
    "if price >= 3.00:\n",
    "    \n",
    "    price_range = 'expensive'\n",
    "\n",
    "# else statement is indented at the same point as initial if statement\n",
    "\n",
    "# it gets no condition, because it handles all other situations\n",
    "    \n",
    "else:\n",
    "    \n",
    "    price_range = 'cheap'"
   ]
  },
  {
   "cell_type": "code",
   "execution_count": 26,
   "metadata": {},
   "outputs": [
    {
     "data": {
      "text/plain": [
       "'cheap'"
      ]
     },
     "execution_count": 26,
     "metadata": {},
     "output_type": "execute_result"
    }
   ],
   "source": [
    "price_range"
   ]
  },
  {
   "cell_type": "code",
   "execution_count": 37,
   "metadata": {
    "collapsed": true
   },
   "outputs": [],
   "source": [
    "# if elif else statement will give us the tools for infinite complexity\n",
    "\n",
    "price = 3.99\n",
    "\n",
    "if price >= 2.00:\n",
    "    \n",
    "    price_range = 'mid-range'\n",
    "\n",
    "elif price >= 3.00:\n",
    "    \n",
    "    price_range = 'expensive'\n",
    "    \n",
    "else:\n",
    "    \n",
    "    price_range = 'cheap'"
   ]
  },
  {
   "cell_type": "code",
   "execution_count": 38,
   "metadata": {},
   "outputs": [
    {
     "data": {
      "text/plain": [
       "'mid-range'"
      ]
     },
     "execution_count": 38,
     "metadata": {},
     "output_type": "execute_result"
    }
   ],
   "source": [
    "price_range"
   ]
  },
  {
   "cell_type": "code",
   "execution_count": 42,
   "metadata": {
    "collapsed": true
   },
   "outputs": [],
   "source": [
    "# nested if then statements\n",
    "\n",
    "price = 2.99\n",
    "\n",
    "size = 'large'\n",
    "\n",
    "if price >= 3.00:\n",
    "    \n",
    "    if size == 'small':\n",
    "        \n",
    "        price_range = 'expensive'\n",
    "        \n",
    "    else:\n",
    "        \n",
    "        price_range = 'mid-range'\n",
    "\n",
    "elif price >= 2.00:\n",
    "    \n",
    "    if size == 'small':\n",
    "    \n",
    "        price_range = 'mid-range'\n",
    "        \n",
    "    else:\n",
    "        \n",
    "        price_range = 'cheap'\n",
    "    \n",
    "else:\n",
    "    \n",
    "    price_range = 'cheap'"
   ]
  },
  {
   "cell_type": "code",
   "execution_count": 71,
   "metadata": {},
   "outputs": [],
   "source": [
    "# using multi condition if statement requires ()\n",
    "\n",
    "x = 3\n",
    "\n",
    "y = 'ff'\n",
    "\n",
    "if (x >= 3 and y == 'ff'):\n",
    "    \n",
    "    ans = True\n",
    "\n",
    "else:\n",
    "    \n",
    "    ans = False"
   ]
  },
  {
   "cell_type": "code",
   "execution_count": 72,
   "metadata": {},
   "outputs": [
    {
     "data": {
      "text/plain": [
       "True"
      ]
     },
     "execution_count": 72,
     "metadata": {},
     "output_type": "execute_result"
    }
   ],
   "source": [
    "ans"
   ]
  },
  {
   "cell_type": "markdown",
   "metadata": {},
   "source": [
    "## Loops\n",
    "\n",
    "Loops are another type of control flow that will allow an operation to happen many many times in a row to accomplish a particular task. This can be helpful for particularly repetetive tasks and can allow our script to be written much more elegantly."
   ]
  },
  {
   "cell_type": "code",
   "execution_count": null,
   "metadata": {
    "collapsed": true
   },
   "outputs": [],
   "source": [
    "#for loop\n",
    "\n",
    "my_list = [1,2,3,4,5]\n",
    "\n",
    "for i in my_list:\n",
    "    \n",
    "    print(i)"
   ]
  },
  {
   "cell_type": "code",
   "execution_count": null,
   "metadata": {
    "collapsed": true
   },
   "outputs": [],
   "source": [
    "for i in range(0,5):\n",
    "    \n",
    "    print(my_list[i])"
   ]
  },
  {
   "cell_type": "code",
   "execution_count": null,
   "metadata": {
    "collapsed": true
   },
   "outputs": [],
   "source": [
    "for i in range(0,5):\n",
    "    \n",
    "    my_list[i] = my_list[i] + 3\n",
    "    \n",
    "my_list"
   ]
  },
  {
   "cell_type": "code",
   "execution_count": null,
   "metadata": {
    "collapsed": true
   },
   "outputs": [],
   "source": [
    "counter = 12\n",
    "\n",
    "for i in range(0,5):\n",
    "    \n",
    "    counter = counter + 1\n",
    "    \n",
    "    print(counter)"
   ]
  },
  {
   "cell_type": "code",
   "execution_count": null,
   "metadata": {
    "collapsed": true
   },
   "outputs": [],
   "source": [
    "#while loops\n",
    "\n",
    "counter = 4\n",
    "\n",
    "while counter > 1:\n",
    "    \n",
    "    counter = counter - 1\n",
    "    \n",
    "    print(counter)"
   ]
  },
  {
   "cell_type": "code",
   "execution_count": null,
   "metadata": {
    "collapsed": true
   },
   "outputs": [],
   "source": [
    "condition = False\n",
    "\n",
    "counter = 0\n",
    "\n",
    "while condition == False:\n",
    "    \n",
    "    counter = counter + 1\n",
    "    \n",
    "    if counter > 3:\n",
    "        \n",
    "        condition = True\n",
    "        \n",
    "    print(counter)"
   ]
  },
  {
   "cell_type": "code",
   "execution_count": null,
   "metadata": {
    "collapsed": true
   },
   "outputs": [],
   "source": [
    "condition = False\n",
    "\n",
    "counter = 0\n",
    "\n",
    "while condition == False:\n",
    "    \n",
    "    if counter > 3:\n",
    "        \n",
    "        condition = True\n",
    "        \n",
    "    counter = counter + 1\n",
    "        \n",
    "    print(counter)"
   ]
  }
 ],
 "metadata": {
  "kernelspec": {
   "display_name": "Python 3",
   "language": "python",
   "name": "python3"
  },
  "language_info": {
   "codemirror_mode": {
    "name": "ipython",
    "version": 3
   },
   "file_extension": ".py",
   "mimetype": "text/x-python",
   "name": "python",
   "nbconvert_exporter": "python",
   "pygments_lexer": "ipython3",
   "version": "3.6.1"
  }
 },
 "nbformat": 4,
 "nbformat_minor": 2
}
