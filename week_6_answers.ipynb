{
 "cells": [
  {
   "cell_type": "code",
   "execution_count": null,
   "metadata": {},
   "outputs": [],
   "source": [
    "# write a loop that takes a list of numbers and\n",
    "# creates a new list with 10 added to each value\n",
    "\n",
    "#eg: input -> [3, 6, 3, 9, 12] output -> [13, 16, 13, 19, 22]\n",
    "\n",
    "list_nums = [3, 6, 3, 9, 12]\n",
    "\n",
    "list_add_10 = []\n",
    "\n",
    "for num in list_nums:\n",
    "    \n",
    "    list_add_10.append(num + 10)\n",
    "\n",
    "list_add_10"
   ]
  },
  {
   "cell_type": "code",
   "execution_count": null,
   "metadata": {},
   "outputs": [],
   "source": [
    "# write a loop that takes a list of words and creates\n",
    "# a new list with the lengths of the words\n",
    "\n",
    "#eg: input -> ['great', 'job', 'so', 'far'] output -> [5, 3, 2, 3]\n",
    "\n",
    "list_words = ['great', 'job', 'so', 'far']\n",
    "\n",
    "list_length_words = []\n",
    "\n",
    "for word in list_words:\n",
    "    \n",
    "    list_length_words.append(len(word))\n",
    "\n",
    "list_length_words"
   ]
  },
  {
   "cell_type": "code",
   "execution_count": null,
   "metadata": {},
   "outputs": [],
   "source": [
    "# write a loop that takes a list of numbers and creates\n",
    "# a new list that either contains 'even or 'odd'\n",
    "\n",
    "#eg: input -> [7, 10, 2, 5, 9] output -> ['odd', 'even', 'even', 'odd', 'odd']\n",
    "\n",
    "#hint % is a helpful mathematical function that will return the remainder of a division problem (google -> modulo)\n",
    "\n",
    "list_nums = [7, 10, 2, 5, 9]\n",
    "\n",
    "odd_or_even = []\n",
    "\n",
    "for num in list_nums:\n",
    "    \n",
    "    if num % 2 == 0:\n",
    "        \n",
    "        odd_or_even.append('even')\n",
    "        \n",
    "    else:\n",
    "        \n",
    "        odd_or_even.append('odd')\n",
    "\n",
    "odd_or_even"
   ]
  },
  {
   "cell_type": "code",
   "execution_count": null,
   "metadata": {},
   "outputs": [],
   "source": [
    "# write a while loop that counts how many times it takes \n",
    "# for your lottery number to be choosen\n",
    "\n",
    "#hint:\n",
    "\n",
    "import numpy as np\n",
    "\n",
    "lotto_num = 9\n",
    "\n",
    "num_tickets = 1000\n",
    "\n",
    "picked_num = 0\n",
    "\n",
    "counter = 0\n",
    "\n",
    "while lotto_num != picked_num:\n",
    "    \n",
    "    counter = counter + 1\n",
    "    \n",
    "    picked_num = np.random.randint(1,num_tickets)\n",
    "    \n",
    "counter"
   ]
  },
  {
   "cell_type": "code",
   "execution_count": null,
   "metadata": {
    "scrolled": true
   },
   "outputs": [],
   "source": [
    "# write a for loop that runs the above experiment 100 times\n",
    "\n",
    "test_results = []\n",
    "\n",
    "lotto_num = 9\n",
    "\n",
    "num_tickets = 1000\n",
    "\n",
    "for i in range(1,100):\n",
    "    \n",
    "    picked_num = 0\n",
    "    \n",
    "    counter = 0\n",
    "    \n",
    "    while lotto_num != picked_num:\n",
    "    \n",
    "        counter = counter + 1\n",
    "    \n",
    "        picked_num = np.random.randint(1,num_tickets)\n",
    "        \n",
    "    test_results.append(counter)\n",
    "    \n",
    "test_results"
   ]
  }
 ],
 "metadata": {
  "kernelspec": {
   "display_name": "Python 3",
   "language": "python",
   "name": "python3"
  },
  "language_info": {
   "codemirror_mode": {
    "name": "ipython",
    "version": 3
   },
   "file_extension": ".py",
   "mimetype": "text/x-python",
   "name": "python",
   "nbconvert_exporter": "python",
   "pygments_lexer": "ipython3",
   "version": "3.6.1"
  }
 },
 "nbformat": 4,
 "nbformat_minor": 2
}
