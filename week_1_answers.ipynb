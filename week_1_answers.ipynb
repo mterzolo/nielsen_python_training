{
 "cells": [
  {
   "cell_type": "code",
   "execution_count": 1,
   "metadata": {},
   "outputs": [
    {
     "name": "stdout",
     "output_type": "stream",
     "text": [
      "mattie terzolo\n"
     ]
    }
   ],
   "source": [
    "#print your first and last name to the screen\n",
    "\n",
    "print(\"mattie terzolo\")"
   ]
  },
  {
   "cell_type": "code",
   "execution_count": 2,
   "metadata": {},
   "outputs": [
    {
     "data": {
      "text/plain": [
       "'mattie terzolo'"
      ]
     },
     "execution_count": 2,
     "metadata": {},
     "output_type": "execute_result"
    }
   ],
   "source": [
    "\"mattie terzolo\""
   ]
  },
  {
   "cell_type": "code",
   "execution_count": 3,
   "metadata": {},
   "outputs": [
    {
     "name": "stdout",
     "output_type": "stream",
     "text": [
      "39\n"
     ]
    }
   ],
   "source": [
    "#add 16 and 23 together and print the result to the screen\n",
    "\n",
    "print(16 + 23)"
   ]
  },
  {
   "cell_type": "code",
   "execution_count": 4,
   "metadata": {},
   "outputs": [
    {
     "name": "stdout",
     "output_type": "stream",
     "text": [
      "Program has failed\n"
     ]
    }
   ],
   "source": [
    "#add a comment to the code below to explain what you are doing\n",
    "\n",
    "#print error message\n",
    "print(\"Program has failed\")"
   ]
  },
  {
   "cell_type": "code",
   "execution_count": 5,
   "metadata": {},
   "outputs": [
    {
     "data": {
      "text/plain": [
       "1338298"
      ]
     },
     "execution_count": 5,
     "metadata": {},
     "output_type": "execute_result"
    }
   ],
   "source": [
    "#add the product of 3 and 654 with 34 raised to the 4th power\n",
    "\n",
    "(3 * 654) + 34 ** 4"
   ]
  },
  {
   "cell_type": "code",
   "execution_count": 6,
   "metadata": {
    "collapsed": true
   },
   "outputs": [],
   "source": [
    "#declare a variable named x that contains the integer 4\n",
    "\n",
    "x = 4"
   ]
  },
  {
   "cell_type": "code",
   "execution_count": 7,
   "metadata": {},
   "outputs": [
    {
     "data": {
      "text/plain": [
       "float"
      ]
     },
     "execution_count": 7,
     "metadata": {},
     "output_type": "execute_result"
    }
   ],
   "source": [
    "#print to the screen what type of variable y is\n",
    "\n",
    "y = 45.3\n",
    "\n",
    "type(y)"
   ]
  },
  {
   "cell_type": "code",
   "execution_count": 8,
   "metadata": {},
   "outputs": [
    {
     "data": {
      "text/plain": [
       "3391.5"
      ]
     },
     "execution_count": 8,
     "metadata": {},
     "output_type": "execute_result"
    }
   ],
   "source": [
    "#declare 3 variables with the values 3, 17, and 66.5\n",
    "\n",
    "length = 3\n",
    "\n",
    "height = 17\n",
    "\n",
    "width = 66.5\n",
    "\n",
    "#calculate the volume of the box and store the result as a volume\n",
    "\n",
    "volume = length * height * width\n",
    "\n",
    "volume"
   ]
  },
  {
   "cell_type": "code",
   "execution_count": 9,
   "metadata": {},
   "outputs": [
    {
     "name": "stdout",
     "output_type": "stream",
     "text": [
      "mattie terzolo has mastered lesson number 1\n"
     ]
    }
   ],
   "source": [
    "#fix the print out to prove to the world you are a python master\n",
    "\n",
    "first_name = 'mattie'\n",
    "\n",
    "last_name = 'terzolo'\n",
    "\n",
    "lesson_number = 1\n",
    "\n",
    "print(first_name + ' ' + last_name + ' ' + \"has mastered lesson number \" + str(lesson_number))"
   ]
  },
  {
   "cell_type": "code",
   "execution_count": null,
   "metadata": {
    "collapsed": true
   },
   "outputs": [],
   "source": []
  }
 ],
 "metadata": {
  "kernelspec": {
   "display_name": "Python 3",
   "language": "python",
   "name": "python3"
  },
  "language_info": {
   "codemirror_mode": {
    "name": "ipython",
    "version": 3
   },
   "file_extension": ".py",
   "mimetype": "text/x-python",
   "name": "python",
   "nbconvert_exporter": "python",
   "pygments_lexer": "ipython3",
   "version": "3.6.1"
  }
 },
 "nbformat": 4,
 "nbformat_minor": 2
}
