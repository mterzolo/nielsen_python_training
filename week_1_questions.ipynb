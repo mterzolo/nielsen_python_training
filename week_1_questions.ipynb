{
 "cells": [
  {
   "cell_type": "code",
   "execution_count": null,
   "metadata": {
    "collapsed": true
   },
   "outputs": [],
   "source": [
    "#print your first and last name to the screen\n",
    "\n",
    "print(\"\")"
   ]
  },
  {
   "cell_type": "code",
   "execution_count": null,
   "metadata": {
    "collapsed": true
   },
   "outputs": [],
   "source": [
    "#add 16 and 23 together and print the result to the screen\n",
    "\n",
    "print( + )"
   ]
  },
  {
   "cell_type": "code",
   "execution_count": null,
   "metadata": {
    "collapsed": true
   },
   "outputs": [],
   "source": [
    "#add a comment to the code below to explain what you are doing\n",
    "\n",
    "print(\"Program has failed\")"
   ]
  },
  {
   "cell_type": "code",
   "execution_count": null,
   "metadata": {
    "collapsed": true
   },
   "outputs": [],
   "source": [
    "#add the product of 3 and 654 with 34 raised to the 4th power\n",
    "\n",
    "(3 * ) + 34"
   ]
  },
  {
   "cell_type": "code",
   "execution_count": null,
   "metadata": {
    "collapsed": true
   },
   "outputs": [],
   "source": [
    "#declare a variable named x that contains the integer 4\n",
    "\n"
   ]
  },
  {
   "cell_type": "code",
   "execution_count": null,
   "metadata": {
    "collapsed": true
   },
   "outputs": [],
   "source": [
    "#print to the screen what type of variable y is\n",
    "\n",
    "y = 45.3\n",
    "\n"
   ]
  },
  {
   "cell_type": "code",
   "execution_count": null,
   "metadata": {},
   "outputs": [],
   "source": [
    "#declare 3 variables with the values 3, 17, and 66.5\n",
    "\n",
    "length = \n",
    "\n",
    "height = \n",
    "\n",
    "width = \n",
    "\n",
    "#calculate the volume of the box and store the result as a volume\n",
    "\n",
    "volume = \n",
    "\n",
    "volume"
   ]
  },
  {
   "cell_type": "code",
   "execution_count": null,
   "metadata": {
    "collapsed": true
   },
   "outputs": [],
   "source": [
    "#fix the print out to prove to the world you are a python master\n",
    "\n",
    "first_name = ''\n",
    "\n",
    "last_name = ''\n",
    "\n",
    "lesson_number = 1\n",
    "\n",
    "print(first_name + ' ' + last_name + ' ' + \"has mastered lesson number \" + lesson_number)"
   ]
  }
 ],
 "metadata": {
  "kernelspec": {
   "display_name": "Python 3",
   "language": "python",
   "name": "python3"
  },
  "language_info": {
   "codemirror_mode": {
    "name": "ipython",
    "version": 3
   },
   "file_extension": ".py",
   "mimetype": "text/x-python",
   "name": "python",
   "nbconvert_exporter": "python",
   "pygments_lexer": "ipython3",
   "version": "3.6.1"
  }
 },
 "nbformat": 4,
 "nbformat_minor": 2
}
